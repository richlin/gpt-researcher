{
  "cells": [
    {
      "cell_type": "markdown",
      "metadata": {
        "colab_type": "text",
        "id": "view-in-github"
      },
      "source": [
        "<a href=\"https://colab.research.google.com/github/richlin/gpt-researcher/blob/main/Langchain_RAG.ipynb\" target=\"_parent\"><img src=\"https://colab.research.google.com/assets/colab-badge.svg\" alt=\"Open In Colab\"/></a>"
      ]
    },
    {
      "cell_type": "code",
      "execution_count": 1,
      "metadata": {
        "id": "285iT1yqt1vn"
      },
      "outputs": [],
      "source": [
        "from dotenv import load_dotenv\n",
        "import os\n",
        "\n",
        "load_dotenv()\n",
        "\n",
        "OPENAI_API_KEY=os.environ[\"OPENAI_API_KEY\"]"
      ]
    },
    {
      "cell_type": "code",
      "execution_count": null,
      "metadata": {
        "id": "4K3YBP-yuVK7"
      },
      "outputs": [],
      "source": [
        "%pip install langchain\n",
        "%pip install openai\n",
        "%pip install tiktoken\n",
        "%pip install faiss-cpu"
      ]
    },
    {
      "cell_type": "code",
      "execution_count": null,
      "metadata": {
        "id": "V9F2rZdNuC-3"
      },
      "outputs": [],
      "source": [
        "from langchain.document_loaders.csv_loader import CSVLoader\n",
        "from langchain.vectorstores import FAISS\n",
        "from langchain.embeddings.openai import OpenAIEmbeddings\n",
        "from langchain.prompts import PromptTemplate\n",
        "from langchain.chat_models import ChatOpenAI\n",
        "from langchain.chains import LLMChain"
      ]
    },
    {
      "cell_type": "markdown",
      "metadata": {
        "id": "_ElgfrZvveXS"
      },
      "source": [
        "# Vectorize data"
      ]
    },
    {
      "cell_type": "code",
      "execution_count": 23,
      "metadata": {
        "id": "uxsrEWjvufs4"
      },
      "outputs": [],
      "source": [
        "loader = CSVLoader(file_path='paper.csv')\n",
        "documents = loader.load()"
      ]
    },
    {
      "cell_type": "code",
      "execution_count": 26,
      "metadata": {
        "colab": {
          "base_uri": "https://localhost:8080/"
        },
        "id": "cXG7W7cTxoUk",
        "outputId": "ca1444b6-c600-4714-dfb6-3361e580f232"
      },
      "outputs": [
        {
          "data": {
            "text/plain": [
              "Document(page_content='\\ufeffstore: Walmart\\nbrand: Pen+Gear\\nname: Pen+Gear Copy Paper, 8.5\" x 11\", 92 Bright, White, 20 lb., 1 Ream (500 Sheets)\\ndescription: Let this Pen+Gear Copy Paper lead you on the right path to success for your next project. Whether you\\'re printing presentation handouts, announcements, signs, or just starting up a new craft project, this traditional white copy paper is a versatile canvas that lends itself to achieving just about any printed results you\\'re seeking. Stock your office with Pen+Gear Copy Paper today!\\n\\nJam-resistant printer paper at your ready, you can easily bring your designs to life with black and color ink, which makes this copy paper the perfect choice for use at home, office, or school\\nThis pack comes complete with 500 sheets and delivers results in all laser, inkjet printers and copiers\\nPaper is certified by the Sustainable Forestry Initiative (SFI)\\nurl: https://www.walmart.com/ip/Pen-Gear-Copy-Paper-8-5-x-11-92-Bright-White-20-lb-1-Ream-500-Sheets/487634010?athbdg=L1200', metadata={'source': 'paper.csv', 'row': 1})"
            ]
          },
          "execution_count": 26,
          "metadata": {},
          "output_type": "execute_result"
        }
      ],
      "source": [
        "documents[1]"
      ]
    },
    {
      "cell_type": "code",
      "execution_count": 34,
      "metadata": {
        "id": "3YUEsfBKu6_U"
      },
      "outputs": [],
      "source": [
        "embeddings = OpenAIEmbeddings(openai_api_key = OPENAI_API_KEY)"
      ]
    },
    {
      "cell_type": "code",
      "execution_count": 36,
      "metadata": {
        "id": "F1fvIKPIuygw"
      },
      "outputs": [],
      "source": [
        "db = FAISS.from_documents(documents, embeddings)"
      ]
    },
    {
      "cell_type": "markdown",
      "metadata": {
        "id": "mAGB9fFwvhNH"
      },
      "source": [
        "# Similarity search"
      ]
    },
    {
      "cell_type": "code",
      "execution_count": 37,
      "metadata": {
        "id": "FQP3ROAnvMJM"
      },
      "outputs": [],
      "source": [
        "def retrieve_info(query):\n",
        "  similar_response = db.similarity_search(query, k=3)\n",
        "  page_contants_array = [doc.page_content for doc in similar_response]\n",
        "  return page_contants_array"
      ]
    },
    {
      "cell_type": "code",
      "execution_count": 112,
      "metadata": {
        "id": "sdjN60q4vxCF"
      },
      "outputs": [],
      "source": [
        "llm = ChatOpenAI(temperature=0, model='gpt-3.5-turbo-0125', openai_api_key = OPENAI_API_KEY)"
      ]
    },
    {
      "cell_type": "code",
      "execution_count": 118,
      "metadata": {
        "id": "_jUAy6fVwLqE"
      },
      "outputs": [],
      "source": [
        "template = \"\"\"\n",
        "You are a world class product matching specialist.\n",
        "I will share a list of products, and you will find the best match of the products.\n",
        "\n",
        "Below is the description of a product that needs to be matched:\n",
        "{product_description}\n",
        "\n",
        "Here is the list of products that we have information\n",
        "{existing_products}\n",
        "\n",
        "Please find the best matched products of existing_products only from product_description.\n",
        "First compare these products on core specs that are relevant to this product, focus more on numeric features.\n",
        "Compare both similar and different features in great detail and output in bullet points.\n",
        "Then return a numeric similarity score between 0 and 1 based on the comparison to imply how similar they are.\n",
        "Please find at least 3 of these kind of products.\n",
        "\n",
        "Below is an example of output\n",
        "1. Product name\n",
        "Brand name\n",
        "Store name\n",
        "url\n",
        "Key differences between 2 products:\n",
        "- difference A\n",
        "- difference B\n",
        "- difference C\n",
        "- ...\n",
        "Similarity score: 0.9\n",
        "\"\"\""
      ]
    },
    {
      "cell_type": "code",
      "execution_count": 119,
      "metadata": {
        "id": "hbXVn19HwYat"
      },
      "outputs": [],
      "source": [
        "prompt = PromptTemplate(\n",
        "    input_variables=[\"product_description\", \"existing_products\"],\n",
        "    template=template\n",
        ")\n",
        "\n",
        "chain = LLMChain(llm=llm, prompt = prompt)"
      ]
    },
    {
      "cell_type": "code",
      "execution_count": 120,
      "metadata": {
        "id": "4WH8CKMEx-qk"
      },
      "outputs": [],
      "source": [
        "odp_prd = \"\"\"\n",
        "Hammermill® Copy Plus® Copier Paper, Letter Size (8 1/2\" x 11\"), 5000 Total Sheets, 92 (U.S.) Brightness, 20 Lb, FSC® Certified, White, 500 Sheets Per Ream, Case Of 10 Reams\n",
        "\n",
        "Hammermill Copy Plus paper is an economical copy paper designed for everyday use at offices large and small. Offering dependable performance on all office machines, you'll want to have plenty of this dependable paper on hand for everyday, general office use. ColorLok for bolder blacks, brighter colors and faster drying. Backed by the 99.99% Jam-Free Guarantee. Acid-free material prevents yellowing over time to ensure a long-lasting appearance.\n",
        "\n",
        "Perfect for black and white printing, drafts and forms. - Hammermill is more than just paper.\n",
        "99.99% JAM-FREE GUARANTEE - You can trust Hammermill paper quality, guaranteed.\n",
        "COLORLOK TECHNOLOGY & ACID-FREE - Colors on Hammermill copy paper are 30% brighter.\n",
        "blacks are up to 60% bolder, and inks dry 3 times faster for less smearing. Acid-free Hammermill paper also prevents printing and copier sheets from yellowing over time to ensure long-lasting archival quality.\n",
        "RENEWABLE RESOURCE - Hammermill copy paper is Forest Stewardship Council (FSC) certified, contributing to “MR1 Performance” for paper and wood products under LEED.\n",
        "Letter-size paper measures 8 1/2\" x 11\" to suit your printing needs.\n",
        "Forest Stewardship Council® (FSC®) certified — made from wood/paper that comes from forests managed to rigorous environmental and social standards, supported by the world's leading conservation organizations.\n",
        "Leadership forestry — from forests or sourcing programs that meet specific environmental standards, helping you support practices that better protect forests and the environment.\n",
        "\n",
        "\"\"\""
      ]
    },
    {
      "cell_type": "code",
      "execution_count": 121,
      "metadata": {
        "id": "B5Wi7KW8zA-q"
      },
      "outputs": [],
      "source": [
        "existing_products = retrieve_info(odp_prd)\n",
        "response = chain.run(product_description=odp_prd, existing_products=existing_products)"
      ]
    },
    {
      "cell_type": "code",
      "execution_count": 122,
      "metadata": {
        "colab": {
          "base_uri": "https://localhost:8080/"
        },
        "id": "IbdpbhuMzPJr",
        "outputId": "ffd2ae46-f491-402a-b20a-ddc36b5ee049"
      },
      "outputs": [
        {
          "name": "stdout",
          "output_type": "stream",
          "text": [
            "1. Product: Pen+Gear Copy Paper, 8.5\" x 11\", 92 Bright, White, 20 lb., 1 Ream (500 Sheets)\n",
            "   Brand: Pen+Gear\n",
            "   Store: Walmart\n",
            "   URL: https://www.walmart.com/ip/Pen-Gear-Copy-Paper-8-5-x-11-92-Bright-White-20-lb-1-Ream-500-Sheets/487634010?athbdg=L1200\n",
            "   Key differences:\n",
            "   - Pen+Gear Copy Paper comes in 1 ream with 500 sheets, while Hammermill Copy Plus comes in a case of 10 reams with 5000 total sheets.\n",
            "   - Pen+Gear Copy Paper is certified by the Sustainable Forestry Initiative (SFI), while Hammermill Copy Plus is FSC certified.\n",
            "   - Pen+Gear Copy Paper does not mention ColorLok technology or a Jam-Free Guarantee, which are highlighted features of Hammermill Copy Plus.\n",
            "   Similarity score: 0.6\n",
            "\n",
            "2. Product: HP Printer Paper - Copy and Print, 20 lb., 8.5\" x 11\", 2,400 Sheets, 6 Pack\n",
            "   Brand: HP\n",
            "   Store: Walmart\n",
            "   URL: https://www.walmart.com/ip/HP-Printer-Paper-Copy-and-Print-20-lb-8-5-x-11-2-400-Sheets-6-Pack/972411531?adsRedirect=true\n",
            "   Key differences:\n",
            "   - HP Printer Paper comes in a 6 pack with 2400 sheets, while Hammermill Copy Plus comes in a case of 10 reams with 5000 total sheets.\n",
            "   - HP Printer Paper is described as premium line uncoated printing paper optimized for superior print performance, while Hammermill Copy Plus is designed for everyday office use.\n",
            "   - HP Printer Paper is Forest Stewardship Council (FSC) certified, similar to Hammermill Copy Plus.\n",
            "   Similarity score: 0.7\n",
            "\n",
            "3. Product: Staples Pastel Colored Copy Paper 8 1/2\" x 11\" Lilac 500/Ream (14782) 678826\n",
            "   Brand: Staples\n",
            "   Store: Staples\n",
            "   URL: https://www.walmart.com/ip/Staples-Pastel-Colored-Copy-Paper-8-1-2-x-11-Lilac-500-Ream-14782-678826/135484216?athcpid=135484216&athpgid=AthenaItempage&athcgid=null&athznid=si&athieid=v0_eeMTQuODQsNjQ1LjcxOTk5OTk5OTk5OTksMC4wMjk5NzM4OTI5MDY4OTMwMjgsMC41Xw&athstid=CS055&athguid=ecOHPgHKO1KY2WTXRD-odi20xddlNFIIgcbN&athancid=487634010&athposb=13&athena=true\n",
            "   Key differences:\n",
            "   - Staples Pastel Colored Copy Paper is lilac colored, while Hammermill Copy Plus is white.\n",
            "   - Staples Pastel Colored Copy Paper is 30% post-consumer recycled, while Hammermill Copy Plus does not specify recycled content.\n",
            "   - Staples Pastel Colored Copy Paper is acid-free, similar to Hammermill Copy Plus.\n",
            "   Similarity score: 0.5\n"
          ]
        }
      ],
      "source": [
        "print(response)"
      ]
    },
    {
      "cell_type": "code",
      "execution_count": 104,
      "metadata": {
        "id": "_RDPnfYS1yXE"
      },
      "outputs": [],
      "source": [
        "1. Pen+Gear Copy Paper, 8.5\" x 11\", 92 Bright, White, 20 lb., 1 Ream (500 Sheets)\n",
        "Brand: Pen+Gear\n",
        "Store: Walmart\n",
        "Key differences between Hammermill Copy Plus paper:\n",
        "- Pen+Gear has 1 ream (500 sheets) while Hammermill has 10 reams (5000 sheets)\n",
        "- Pen+Gear is Sustainable Forestry Initiative (SFI) certified, while Hammermill is Forest Stewardship Council (FSC) certified\n",
        "- Pen+Gear is jam-resistant, while Hammermill offers a 99.99% Jam-Free Guarantee\n",
        "Similarity score: 0.7\n",
        "\n",
        "2. HP Printer Paper - Copy and Print, 20 lb., 8.5\" x 11\", 2,400 Sheets, 6 Pack\n",
        "Brand: HP\n",
        "Store: Walmart\n",
        "Key differences between Hammermill Copy Plus paper:\n",
        "- HP comes in a 6 pack with 2400 sheets, while Hammermill comes in a case of 10 reams with 5000 sheets\n",
        "- HP is ultra white shade (92 bright, 155 whiteness) with Color Lok technology, while Hammermill offers 92 (U.S.) Brightness\n",
        "- HP is Forest Stewardship Council (FSC) certified, similar to Hammermill\n",
        "Similarity score: 0.8\n",
        "\n",
        "3. Staples Pastel Colored Copy Paper 8 1/2\" x 11\" Lilac 500/Ream (14782) 678826\n",
        "Brand: Staples\n",
        "Store: Staples\n",
        "Key differences between Hammermill Copy Plus paper:\n",
        "- Staples is pastel lilac colored paper, while Hammermill is white\n",
        "- Staples contains 30% recycled post-consumer content, while Hammermill is FSC certified\n",
        "- Staples is sold as 500 sheets per ream, while Hammermill is sold as 5000 sheets per case\n",
        "Similarity score: 0.6\n"
      ]
    }
  ],
  "metadata": {
    "colab": {
      "authorship_tag": "ABX9TyOYXVSqbKrPN7Yl07+FendR",
      "include_colab_link": true,
      "provenance": []
    },
    "kernelspec": {
      "display_name": "Python 3",
      "name": "python3"
    },
    "language_info": {
      "codemirror_mode": {
        "name": "ipython",
        "version": 3
      },
      "file_extension": ".py",
      "mimetype": "text/x-python",
      "name": "python",
      "nbconvert_exporter": "python",
      "pygments_lexer": "ipython3",
      "version": "3.10.11"
    }
  },
  "nbformat": 4,
  "nbformat_minor": 0
}
